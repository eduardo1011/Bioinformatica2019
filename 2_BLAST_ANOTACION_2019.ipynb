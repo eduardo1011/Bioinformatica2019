{
 "cells": [
  {
   "cell_type": "code",
   "execution_count": null,
   "metadata": {},
   "outputs": [],
   "source": [
    "import os\n",
    "import requests\n",
    "import sys\n",
    "import urllib.request\n",
    "from urllib.request import urlopen\n",
    "import re\n",
    "from pandas import DataFrame\n",
    "import pandas as pd\n",
    "from pandas.compat import StringIO\n",
    "import warnings\n",
    "warnings.filterwarnings(\"ignore\")\n",
    "import numpy as np\n",
    "import subprocess\n",
    "from datetime import datetime\n",
    "import ipywidgets as widgets\n",
    "files = [i for i in os.listdir('.') if re.search('.fasta|.fa', i)]\n",
    "fastas = widgets.Dropdown(options =  files)"
   ]
  },
  {
   "cell_type": "code",
   "execution_count": null,
   "metadata": {},
   "outputs": [],
   "source": [
    "modulo = urllib.request.urlretrieve('https://raw.githubusercontent.com/eduardo1011/Bioinformatica2019/master/blast_px_module.py', 'blast_px_module.py')\n",
    "import blast_px_module\n",
    "from blast_px_module import *"
   ]
  },
  {
   "cell_type": "code",
   "execution_count": null,
   "metadata": {},
   "outputs": [],
   "source": [
    "fastas"
   ]
  },
  {
   "cell_type": "markdown",
   "metadata": {},
   "source": [
    "## Elegimos cuántas secuencias queremos analizar"
   ]
  },
  {
   "cell_type": "code",
   "execution_count": null,
   "metadata": {},
   "outputs": [],
   "source": [
    "fasta = open(fastas.value,'r')\n",
    "fasta = fasta.read()\n",
    "print('Número de secuencias:',len(re.findall('>', fasta)))\n",
    "secs = input('Número de secuencias a analizar (ejemplo: 500): ')\n",
    "# crear un archivo con 1000 secuencias para el blastx\n",
    "cons = open(secs+'secuencias.fasta','w')\n",
    "cons.write('>'.join(fasta.split('>')[0:int(float(secs)) + 1]))\n",
    "cons.close()\n",
    "filename = secs+'secuencias.fasta'\n",
    "print('Archivo nuevo: ', filename)"
   ]
  },
  {
   "cell_type": "markdown",
   "metadata": {},
   "source": [
    "## Definimos la localización de la base de datos para hacer Blast"
   ]
  },
  {
   "cell_type": "code",
   "execution_count": null,
   "metadata": {},
   "outputs": [],
   "source": [
    "# en este caso la localizacón es:\n",
    "loc_db = 'DB_A_brasiliensis/DB_A_brasiliensis.fasta'"
   ]
  },
  {
   "cell_type": "markdown",
   "metadata": {},
   "source": [
    "# 2 Blast[p/x]\n",
    "### funció para correr blast[x/p]\n",
    "### <font color=red>run_blast_jupyter(x_p = \" \", file = \" \", db = \" \")</font> "
   ]
  },
  {
   "cell_type": "markdown",
   "metadata": {},
   "source": [
    "### Corriendo blast en jupyter"
   ]
  },
  {
   "cell_type": "code",
   "execution_count": null,
   "metadata": {},
   "outputs": [],
   "source": [
    "tipo = 'blastp'"
   ]
  },
  {
   "cell_type": "code",
   "execution_count": null,
   "metadata": {
    "scrolled": true
   },
   "outputs": [],
   "source": [
    "run_blast_jupyter(x_p = tipo, file = filename, db = loc_db, evalue = 1E-6,\n",
    "                 max_target_seqs=4, max_hsps=4)"
   ]
  },
  {
   "cell_type": "markdown",
   "metadata": {},
   "source": [
    "# Nuevas columnas\n",
    "## <span style=\"color:red\">qstart</span> means Start of alignment in query\n",
    "## <span style=\"color:red\">qend</span> means End of alignment in query\n",
    "## <span style=\"color:red\">sstart</span> means Start of alignment in subject\n",
    "## <span style=\"color:red\">send</span> means End of alignment in subject"
   ]
  },
  {
   "cell_type": "markdown",
   "metadata": {},
   "source": [
    "## Abrimos el resuado del Blast"
   ]
  },
  {
   "cell_type": "code",
   "execution_count": null,
   "metadata": {},
   "outputs": [],
   "source": [
    "out_file = filename.split('.')[0]\n",
    "out_file = tipo+'_'+out_file.split('/')[-1]+'.tab'\n",
    "out_file"
   ]
  },
  {
   "cell_type": "code",
   "execution_count": null,
   "metadata": {
    "scrolled": true
   },
   "outputs": [],
   "source": [
    "blast_res = pd.read_csv(out_file, sep = '\\t')#.dropna()\n",
    "blast_res"
   ]
  },
  {
   "cell_type": "code",
   "execution_count": null,
   "metadata": {},
   "outputs": [],
   "source": []
  },
  {
   "cell_type": "code",
   "execution_count": null,
   "metadata": {},
   "outputs": [],
   "source": []
  },
  {
   "cell_type": "code",
   "execution_count": null,
   "metadata": {},
   "outputs": [],
   "source": [
    "#aplicar filtro 70% de identidad\n",
    "#filtro_70 = blast_res[(blast_res.pident >= 70) & (blast_res.pident <= 100)].reset_index(drop=True).drop_duplicates()"
   ]
  },
  {
   "cell_type": "code",
   "execution_count": null,
   "metadata": {},
   "outputs": [],
   "source": [
    "dfs = []\n",
    "for i in blast_res.qacc.drop_duplicates():\n",
    "    df = blast_res[blast_res.qacc == i].sort_values(by='bitscore', ascending=False)\n",
    "    dfs.append(df[:1])\n",
    "best_hits = pd.concat(dfs)\n",
    "# descarga las seceuncias filtradas\n",
    "best_hits.to_csv(out_file.split('.')[0]+'_best_hist.tsv', sep = '\\t', index = None)"
   ]
  },
  {
   "cell_type": "code",
   "execution_count": null,
   "metadata": {
    "scrolled": true
   },
   "outputs": [],
   "source": [
    "best_hits"
   ]
  },
  {
   "cell_type": "markdown",
   "metadata": {},
   "source": [
    "<img src=\"https://raw.githubusercontent.com/eduardo1011/Bioinformatica2019/master/blactx-p.png\" width = 100%> <br>"
   ]
  },
  {
   "cell_type": "code",
   "execution_count": null,
   "metadata": {
    "scrolled": true
   },
   "outputs": [],
   "source": [
    "best_hits[['Entry']].drop_duplicates().Entry.count()"
   ]
  },
  {
   "cell_type": "code",
   "execution_count": null,
   "metadata": {},
   "outputs": [],
   "source": [
    "archivo_de_salida1 = filename.split('.')[0]+'.txt'\n",
    "archivo_de_salida1"
   ]
  },
  {
   "cell_type": "markdown",
   "metadata": {},
   "source": [
    "### comando para salvar la lista de identificadores"
   ]
  },
  {
   "cell_type": "code",
   "execution_count": null,
   "metadata": {
    "scrolled": true
   },
   "outputs": [],
   "source": [
    "best_hits[['Entry']].drop_duplicates().to_csv(archivo_de_salida1, sep = '\\t', index = None, header = None)"
   ]
  },
  {
   "cell_type": "code",
   "execution_count": null,
   "metadata": {},
   "outputs": [],
   "source": []
  },
  {
   "cell_type": "markdown",
   "metadata": {},
   "source": [
    "<img src=\"https://raw.githubusercontent.com/eduardo1011/Bioinformatica2019/master/blactn.png\" width = 100%> <br>"
   ]
  },
  {
   "cell_type": "code",
   "execution_count": null,
   "metadata": {},
   "outputs": [],
   "source": [
    "archivo_de_salida2 = out_file.split('.')[0]+'.tsv'\n",
    "archivo_de_salida2"
   ]
  },
  {
   "cell_type": "code",
   "execution_count": null,
   "metadata": {
    "scrolled": true
   },
   "outputs": [],
   "source": [
    "file_for_tax = best_hist[['qacc', 'Entry', 'Tax_ID']].drop_duplicates()\n",
    "file_for_tax.to_csv(archivo_de_salida2, sep = '\\t', index = None)"
   ]
  },
  {
   "cell_type": "code",
   "execution_count": null,
   "metadata": {},
   "outputs": [],
   "source": []
  },
  {
   "cell_type": "code",
   "execution_count": null,
   "metadata": {},
   "outputs": [],
   "source": []
  },
  {
   "cell_type": "code",
   "execution_count": null,
   "metadata": {},
   "outputs": [],
   "source": []
  },
  {
   "cell_type": "code",
   "execution_count": null,
   "metadata": {},
   "outputs": [],
   "source": []
  },
  {
   "cell_type": "code",
   "execution_count": null,
   "metadata": {},
   "outputs": [],
   "source": []
  }
 ],
 "metadata": {
  "kernelspec": {
   "display_name": "Python 3",
   "language": "python",
   "name": "python3"
  },
  "language_info": {
   "codemirror_mode": {
    "name": "ipython",
    "version": 3
   },
   "file_extension": ".py",
   "mimetype": "text/x-python",
   "name": "python",
   "nbconvert_exporter": "python",
   "pygments_lexer": "ipython3",
   "version": "3.6.7"
  }
 },
 "nbformat": 4,
 "nbformat_minor": 2
}
